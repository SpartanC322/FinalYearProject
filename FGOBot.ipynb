{
  "nbformat": 4,
  "nbformat_minor": 0,
  "metadata": {
    "colab": {
      "name": "FGOBot.ipynb",
      "provenance": [],
      "collapsed_sections": [],
      "mount_file_id": "1Lu1OP9mW3Nc3d-fa6TAkUk-AOhWO1qB9",
      "authorship_tag": "ABX9TyPAVSiN8QI7wLNLoVymm7se",
      "include_colab_link": true
    },
    "kernelspec": {
      "name": "python3",
      "display_name": "Python 3"
    },
    "language_info": {
      "name": "python"
    }
  },
  "cells": [
    {
      "cell_type": "markdown",
      "metadata": {
        "id": "view-in-github",
        "colab_type": "text"
      },
      "source": [
        "<a href=\"https://colab.research.google.com/github/SpartanC322/FinalYearProject/blob/main/FGOBot.ipynb\" target=\"_parent\"><img src=\"https://colab.research.google.com/assets/colab-badge.svg\" alt=\"Open In Colab\"/></a>"
      ]
    },
    {
      "cell_type": "code",
      "source": [
        "# import os\n",
        "# os.kill(os.getpid(), 9)"
      ],
      "metadata": {
        "id": "VX21j9yZlFyV",
        "colab": {
          "base_uri": "https://localhost:8080/"
        },
        "outputId": "863c734d-d20a-479e-b30a-eeab3bf3b6f7"
      },
      "execution_count": 93,
      "outputs": [
        {
          "output_type": "stream",
          "name": "stdout",
          "text": [
            "time: 882 µs (started: 2022-03-06 09:13:06 +00:00)\n"
          ]
        }
      ]
    },
    {
      "cell_type": "code",
      "source": [
        "import random as rd\n",
        "import pandas as pd\n",
        "from itertools import combinations as combo\n",
        "from itertools import permutations as perm\n",
        "\n",
        "!pip install ipython-autotime\n",
        "\n",
        "%load_ext autotime"
      ],
      "metadata": {
        "id": "-528tFh88hha",
        "colab": {
          "base_uri": "https://localhost:8080/"
        },
        "outputId": "ca79439d-c9d5-4b7d-def4-f48a622a5921"
      },
      "execution_count": 94,
      "outputs": [
        {
          "output_type": "stream",
          "name": "stdout",
          "text": [
            "Requirement already satisfied: ipython-autotime in /usr/local/lib/python3.7/dist-packages (0.3.1)\n",
            "Requirement already satisfied: ipython in /usr/local/lib/python3.7/dist-packages (from ipython-autotime) (5.5.0)\n",
            "Requirement already satisfied: prompt-toolkit<2.0.0,>=1.0.4 in /usr/local/lib/python3.7/dist-packages (from ipython->ipython-autotime) (1.0.18)\n",
            "Requirement already satisfied: pexpect in /usr/local/lib/python3.7/dist-packages (from ipython->ipython-autotime) (4.8.0)\n",
            "Requirement already satisfied: pygments in /usr/local/lib/python3.7/dist-packages (from ipython->ipython-autotime) (2.6.1)\n",
            "Requirement already satisfied: pickleshare in /usr/local/lib/python3.7/dist-packages (from ipython->ipython-autotime) (0.7.5)\n",
            "Requirement already satisfied: decorator in /usr/local/lib/python3.7/dist-packages (from ipython->ipython-autotime) (4.4.2)\n",
            "Requirement already satisfied: traitlets>=4.2 in /usr/local/lib/python3.7/dist-packages (from ipython->ipython-autotime) (5.1.1)\n",
            "Requirement already satisfied: simplegeneric>0.8 in /usr/local/lib/python3.7/dist-packages (from ipython->ipython-autotime) (0.8.1)\n",
            "Requirement already satisfied: setuptools>=18.5 in /usr/local/lib/python3.7/dist-packages (from ipython->ipython-autotime) (57.4.0)\n",
            "Requirement already satisfied: wcwidth in /usr/local/lib/python3.7/dist-packages (from prompt-toolkit<2.0.0,>=1.0.4->ipython->ipython-autotime) (0.2.5)\n",
            "Requirement already satisfied: six>=1.9.0 in /usr/local/lib/python3.7/dist-packages (from prompt-toolkit<2.0.0,>=1.0.4->ipython->ipython-autotime) (1.15.0)\n",
            "Requirement already satisfied: ptyprocess>=0.5 in /usr/local/lib/python3.7/dist-packages (from pexpect->ipython->ipython-autotime) (0.7.0)\n",
            "The autotime extension is already loaded. To reload it, use:\n",
            "  %reload_ext autotime\n",
            "time: 3.57 s (started: 2022-03-06 09:13:07 +00:00)\n"
          ]
        }
      ]
    },
    {
      "cell_type": "code",
      "metadata": {
        "id": "sa1nzfickTgZ",
        "colab": {
          "base_uri": "https://localhost:8080/"
        },
        "outputId": "739e6ffc-01dc-48d5-f951-f7066f914f68"
      },
      "source": [
        "#Attack Cards\n",
        "class Card:\n",
        "  card_name = \"\"\n",
        "  card_owner = \"\"\n",
        "  multip = 0\n",
        "  charge = 0\n",
        "\n",
        "  def __init__(self,card_name):\n",
        "    self.card_name = card_name\n",
        "    if(self.card_name == \"Buster\"):\n",
        "      self.multip = 1.5\n",
        "    if(self.card_name == \"Arts\"):\n",
        "      self.multip = 1\n",
        "    if(self.card_name == \"Quick\"):\n",
        "      self.multip = 0.8\n",
        "\n",
        "  def assign_owner(self, owner):\n",
        "    self.card_owner = owner"
      ],
      "execution_count": 95,
      "outputs": [
        {
          "output_type": "stream",
          "name": "stdout",
          "text": [
            "time: 9.07 ms (started: 2022-03-06 09:13:10 +00:00)\n"
          ]
        }
      ]
    },
    {
      "cell_type": "code",
      "metadata": {
        "id": "ke8SNWQBpJRc",
        "colab": {
          "base_uri": "https://localhost:8080/"
        },
        "outputId": "68a04789-1b2b-454d-ab42-522cee32208b"
      },
      "source": [
        "#Player Combatant\n",
        "class Servant:\n",
        "  serv_name = \"\"\n",
        "  serv_class = \"\"\n",
        "  serv_damage = \"\"\n",
        "  serv_health = \"\"\n",
        "  np = 0\n",
        "  cards = []\n",
        "  current_card = []\n",
        "  is_support = False\n",
        "\n",
        "  def __init__(self,serv_name ,serv_class, serv_health, serv_damage, is_support):\n",
        "    self.serv_name = serv_name\n",
        "    self.serv_class = serv_class\n",
        "    self.serv_health = serv_health\n",
        "    self.serv_damage = serv_damage\n",
        "    self.is_support = is_support\n",
        "\n",
        "  def add_cards(self, cards = [Card]):\n",
        "    for card in range(len(cards)):\n",
        "      self.cards.append(cards[card])\n",
        "      cards[card].assign_owner = self\n",
        "\n",
        "  def attack(self, enemy):\n",
        "    loss = enemy.en_health - self.serv_damage\n",
        "    enemy.en_health = enemy.en_health - loss\n",
        "    print(enemy.en_name + \" has lost \" + str(loss) + \" and is now at \" + str(enemy.en_health))"
      ],
      "execution_count": 96,
      "outputs": [
        {
          "output_type": "stream",
          "name": "stdout",
          "text": [
            "time: 22.1 ms (started: 2022-03-06 09:13:10 +00:00)\n"
          ]
        }
      ]
    },
    {
      "cell_type": "code",
      "source": [
        "#Non Plyaer Combatant\n",
        "class Enemy:\n",
        "  en_name = \"\"\n",
        "  en_class = \"\"\n",
        "  en_health = 0\n",
        "  en_damage = 0\n",
        "\n",
        "  def __init__(self, en_name, en_class, en_health, en_damage):\n",
        "    self.en_name = en_name\n",
        "    self.en_class = en_class\n",
        "    self.en_health = en_health\n",
        "    self.en_damage = en_damage\n",
        "\n",
        "  def attack(self, servant = Servant):\n",
        "    servant.serv_health = servant.serv_health - self.en_damage"
      ],
      "metadata": {
        "id": "z2Ibl7gTwNwV",
        "colab": {
          "base_uri": "https://localhost:8080/"
        },
        "outputId": "2bfae91e-9cc4-45ed-ae47-5d64aa0b0f30"
      },
      "execution_count": 97,
      "outputs": [
        {
          "output_type": "stream",
          "name": "stdout",
          "text": [
            "time: 6.88 ms (started: 2022-03-06 09:13:10 +00:00)\n"
          ]
        }
      ]
    },
    {
      "cell_type": "code",
      "metadata": {
        "id": "0Mlvni--2__-",
        "colab": {
          "base_uri": "https://localhost:8080/"
        },
        "outputId": "82b6c7fb-009e-432c-948f-c1d2076ad6e6"
      },
      "source": [
        "#Create all possible combinations from given list\n",
        "def Pick_r_from(r,list_of_items):\n",
        "  if r ==1:\n",
        "    return list( map(lambda e:[e],list_of_items))\n",
        "  sequences = []\n",
        "  for item_index in range(len(list_of_items)):\n",
        "    for remaining in Pick_r_from(r-1,list_of_items[:item_index]+list_of_items[item_index+1:]):\n",
        "      sequences.append([list_of_items[item_index]]+ remaining)\n",
        "  return sequences"
      ],
      "execution_count": 98,
      "outputs": [
        {
          "output_type": "stream",
          "name": "stdout",
          "text": [
            "time: 5.76 ms (started: 2022-03-06 09:13:10 +00:00)\n"
          ]
        }
      ]
    },
    {
      "cell_type": "code",
      "source": [
        "Pick_r_from(3,[1,2,3,4,5])"
      ],
      "metadata": {
        "colab": {
          "base_uri": "https://localhost:8080/"
        },
        "id": "cWNPlYJO6pXw",
        "outputId": "128333b8-3414-4042-f9ca-2efcdd941af2"
      },
      "execution_count": 99,
      "outputs": [
        {
          "output_type": "execute_result",
          "data": {
            "text/plain": [
              "[[1, 2, 3],\n",
              " [1, 2, 4],\n",
              " [1, 2, 5],\n",
              " [1, 3, 2],\n",
              " [1, 3, 4],\n",
              " [1, 3, 5],\n",
              " [1, 4, 2],\n",
              " [1, 4, 3],\n",
              " [1, 4, 5],\n",
              " [1, 5, 2],\n",
              " [1, 5, 3],\n",
              " [1, 5, 4],\n",
              " [2, 1, 3],\n",
              " [2, 1, 4],\n",
              " [2, 1, 5],\n",
              " [2, 3, 1],\n",
              " [2, 3, 4],\n",
              " [2, 3, 5],\n",
              " [2, 4, 1],\n",
              " [2, 4, 3],\n",
              " [2, 4, 5],\n",
              " [2, 5, 1],\n",
              " [2, 5, 3],\n",
              " [2, 5, 4],\n",
              " [3, 1, 2],\n",
              " [3, 1, 4],\n",
              " [3, 1, 5],\n",
              " [3, 2, 1],\n",
              " [3, 2, 4],\n",
              " [3, 2, 5],\n",
              " [3, 4, 1],\n",
              " [3, 4, 2],\n",
              " [3, 4, 5],\n",
              " [3, 5, 1],\n",
              " [3, 5, 2],\n",
              " [3, 5, 4],\n",
              " [4, 1, 2],\n",
              " [4, 1, 3],\n",
              " [4, 1, 5],\n",
              " [4, 2, 1],\n",
              " [4, 2, 3],\n",
              " [4, 2, 5],\n",
              " [4, 3, 1],\n",
              " [4, 3, 2],\n",
              " [4, 3, 5],\n",
              " [4, 5, 1],\n",
              " [4, 5, 2],\n",
              " [4, 5, 3],\n",
              " [5, 1, 2],\n",
              " [5, 1, 3],\n",
              " [5, 1, 4],\n",
              " [5, 2, 1],\n",
              " [5, 2, 3],\n",
              " [5, 2, 4],\n",
              " [5, 3, 1],\n",
              " [5, 3, 2],\n",
              " [5, 3, 4],\n",
              " [5, 4, 1],\n",
              " [5, 4, 2],\n",
              " [5, 4, 3]]"
            ]
          },
          "metadata": {},
          "execution_count": 99
        },
        {
          "output_type": "stream",
          "name": "stdout",
          "text": [
            "time: 11.3 ms (started: 2022-03-06 09:13:10 +00:00)\n"
          ]
        }
      ]
    },
    {
      "cell_type": "code",
      "metadata": {
        "id": "x5s0r-mW6cAg",
        "colab": {
          "base_uri": "https://localhost:8080/"
        },
        "outputId": "f92a0db4-75db-4087-d8b4-f7e0027e4e18"
      },
      "source": [
        "#Test Pick_r_from\n",
        "l = Pick_r_from(3,[\"q\",\"q\",\"a\",\"b\",\"b\"])\n",
        "l[0]"
      ],
      "execution_count": 100,
      "outputs": [
        {
          "output_type": "execute_result",
          "data": {
            "text/plain": [
              "['q', 'q', 'a']"
            ]
          },
          "metadata": {},
          "execution_count": 100
        },
        {
          "output_type": "stream",
          "name": "stdout",
          "text": [
            "time: 10.5 ms (started: 2022-03-06 09:13:10 +00:00)\n"
          ]
        }
      ]
    },
    {
      "cell_type": "code",
      "source": [
        "#Import Servant CSV from google drive\n",
        "path = \"/content/drive/MyDrive/FYP/Servants.csv\"\n",
        "servants_df = pd.read_csv(path)\n",
        "\n",
        "print(servants_df)"
      ],
      "metadata": {
        "colab": {
          "base_uri": "https://localhost:8080/"
        },
        "id": "gMjfnJl_bexH",
        "outputId": "6a7d39e0-1abf-4a62-91b8-c2e81371c4c3"
      },
      "execution_count": 101,
      "outputs": [
        {
          "output_type": "stream",
          "name": "stdout",
          "text": [
            "         Name   Class  Health  Damage   Card1   Card2 Card3  Card4  Card5\n",
            "0    Napolean  Archer   20000   10000  Buster  Buster  Arts   Arts  Quick\n",
            "1  Ereshkigal  Lancer   25000   12000  Buster  Buster  Arts  Quick  Quick\n",
            "2        Nero   Saber   20000   20000  Buster  Buster  Arts   Arts  Quick\n",
            "time: 23 ms (started: 2022-03-06 09:13:10 +00:00)\n"
          ]
        }
      ]
    },
    {
      "cell_type": "code",
      "source": [
        "#Import Enemy CSV from google drive\n",
        "path = \"/content/drive/MyDrive/FYP/Enemies.csv\"\n",
        "enemies_df = pd.read_csv(path)\n",
        "\n",
        "print(enemies_df)"
      ],
      "metadata": {
        "colab": {
          "base_uri": "https://localhost:8080/"
        },
        "id": "0JpzuDYOH-2V",
        "outputId": "6c294144-b90e-4dc9-fe45-b781b60786ec"
      },
      "execution_count": 102,
      "outputs": [
        {
          "output_type": "stream",
          "name": "stdout",
          "text": [
            "         Name     Class  Damage        Health\n",
            "0  Jeff Bezos     Ruler       3  200000000000\n",
            "1  Bill Gates    Caster       1  120000000000\n",
            "2   Elon Musk  Assassin       2  304000000000\n",
            "time: 17.9 ms (started: 2022-03-06 09:13:10 +00:00)\n"
          ]
        }
      ]
    },
    {
      "cell_type": "code",
      "source": [
        "enemies_df.head(5)"
      ],
      "metadata": {
        "colab": {
          "base_uri": "https://localhost:8080/",
          "height": 161
        },
        "id": "PynLuTjZ16W1",
        "outputId": "600f9f72-f0d6-452d-b569-7c31f6965dff"
      },
      "execution_count": 103,
      "outputs": [
        {
          "output_type": "execute_result",
          "data": {
            "text/html": [
              "\n",
              "  <div id=\"df-d1cd8ea6-e299-4909-8546-2be40db18fba\">\n",
              "    <div class=\"colab-df-container\">\n",
              "      <div>\n",
              "<style scoped>\n",
              "    .dataframe tbody tr th:only-of-type {\n",
              "        vertical-align: middle;\n",
              "    }\n",
              "\n",
              "    .dataframe tbody tr th {\n",
              "        vertical-align: top;\n",
              "    }\n",
              "\n",
              "    .dataframe thead th {\n",
              "        text-align: right;\n",
              "    }\n",
              "</style>\n",
              "<table border=\"1\" class=\"dataframe\">\n",
              "  <thead>\n",
              "    <tr style=\"text-align: right;\">\n",
              "      <th></th>\n",
              "      <th>Name</th>\n",
              "      <th>Class</th>\n",
              "      <th>Damage</th>\n",
              "      <th>Health</th>\n",
              "    </tr>\n",
              "  </thead>\n",
              "  <tbody>\n",
              "    <tr>\n",
              "      <th>0</th>\n",
              "      <td>Jeff Bezos</td>\n",
              "      <td>Ruler</td>\n",
              "      <td>3</td>\n",
              "      <td>200000000000</td>\n",
              "    </tr>\n",
              "    <tr>\n",
              "      <th>1</th>\n",
              "      <td>Bill Gates</td>\n",
              "      <td>Caster</td>\n",
              "      <td>1</td>\n",
              "      <td>120000000000</td>\n",
              "    </tr>\n",
              "    <tr>\n",
              "      <th>2</th>\n",
              "      <td>Elon Musk</td>\n",
              "      <td>Assassin</td>\n",
              "      <td>2</td>\n",
              "      <td>304000000000</td>\n",
              "    </tr>\n",
              "  </tbody>\n",
              "</table>\n",
              "</div>\n",
              "      <button class=\"colab-df-convert\" onclick=\"convertToInteractive('df-d1cd8ea6-e299-4909-8546-2be40db18fba')\"\n",
              "              title=\"Convert this dataframe to an interactive table.\"\n",
              "              style=\"display:none;\">\n",
              "        \n",
              "  <svg xmlns=\"http://www.w3.org/2000/svg\" height=\"24px\"viewBox=\"0 0 24 24\"\n",
              "       width=\"24px\">\n",
              "    <path d=\"M0 0h24v24H0V0z\" fill=\"none\"/>\n",
              "    <path d=\"M18.56 5.44l.94 2.06.94-2.06 2.06-.94-2.06-.94-.94-2.06-.94 2.06-2.06.94zm-11 1L8.5 8.5l.94-2.06 2.06-.94-2.06-.94L8.5 2.5l-.94 2.06-2.06.94zm10 10l.94 2.06.94-2.06 2.06-.94-2.06-.94-.94-2.06-.94 2.06-2.06.94z\"/><path d=\"M17.41 7.96l-1.37-1.37c-.4-.4-.92-.59-1.43-.59-.52 0-1.04.2-1.43.59L10.3 9.45l-7.72 7.72c-.78.78-.78 2.05 0 2.83L4 21.41c.39.39.9.59 1.41.59.51 0 1.02-.2 1.41-.59l7.78-7.78 2.81-2.81c.8-.78.8-2.07 0-2.86zM5.41 20L4 18.59l7.72-7.72 1.47 1.35L5.41 20z\"/>\n",
              "  </svg>\n",
              "      </button>\n",
              "      \n",
              "  <style>\n",
              "    .colab-df-container {\n",
              "      display:flex;\n",
              "      flex-wrap:wrap;\n",
              "      gap: 12px;\n",
              "    }\n",
              "\n",
              "    .colab-df-convert {\n",
              "      background-color: #E8F0FE;\n",
              "      border: none;\n",
              "      border-radius: 50%;\n",
              "      cursor: pointer;\n",
              "      display: none;\n",
              "      fill: #1967D2;\n",
              "      height: 32px;\n",
              "      padding: 0 0 0 0;\n",
              "      width: 32px;\n",
              "    }\n",
              "\n",
              "    .colab-df-convert:hover {\n",
              "      background-color: #E2EBFA;\n",
              "      box-shadow: 0px 1px 2px rgba(60, 64, 67, 0.3), 0px 1px 3px 1px rgba(60, 64, 67, 0.15);\n",
              "      fill: #174EA6;\n",
              "    }\n",
              "\n",
              "    [theme=dark] .colab-df-convert {\n",
              "      background-color: #3B4455;\n",
              "      fill: #D2E3FC;\n",
              "    }\n",
              "\n",
              "    [theme=dark] .colab-df-convert:hover {\n",
              "      background-color: #434B5C;\n",
              "      box-shadow: 0px 1px 3px 1px rgba(0, 0, 0, 0.15);\n",
              "      filter: drop-shadow(0px 1px 2px rgba(0, 0, 0, 0.3));\n",
              "      fill: #FFFFFF;\n",
              "    }\n",
              "  </style>\n",
              "\n",
              "      <script>\n",
              "        const buttonEl =\n",
              "          document.querySelector('#df-d1cd8ea6-e299-4909-8546-2be40db18fba button.colab-df-convert');\n",
              "        buttonEl.style.display =\n",
              "          google.colab.kernel.accessAllowed ? 'block' : 'none';\n",
              "\n",
              "        async function convertToInteractive(key) {\n",
              "          const element = document.querySelector('#df-d1cd8ea6-e299-4909-8546-2be40db18fba');\n",
              "          const dataTable =\n",
              "            await google.colab.kernel.invokeFunction('convertToInteractive',\n",
              "                                                     [key], {});\n",
              "          if (!dataTable) return;\n",
              "\n",
              "          const docLinkHtml = 'Like what you see? Visit the ' +\n",
              "            '<a target=\"_blank\" href=https://colab.research.google.com/notebooks/data_table.ipynb>data table notebook</a>'\n",
              "            + ' to learn more about interactive tables.';\n",
              "          element.innerHTML = '';\n",
              "          dataTable['output_type'] = 'display_data';\n",
              "          await google.colab.output.renderOutput(dataTable, element);\n",
              "          const docLink = document.createElement('div');\n",
              "          docLink.innerHTML = docLinkHtml;\n",
              "          element.appendChild(docLink);\n",
              "        }\n",
              "      </script>\n",
              "    </div>\n",
              "  </div>\n",
              "  "
            ],
            "text/plain": [
              "         Name     Class  Damage        Health\n",
              "0  Jeff Bezos     Ruler       3  200000000000\n",
              "1  Bill Gates    Caster       1  120000000000\n",
              "2   Elon Musk  Assassin       2  304000000000"
            ]
          },
          "metadata": {},
          "execution_count": 103
        },
        {
          "output_type": "stream",
          "name": "stdout",
          "text": [
            "time: 10.8 ms (started: 2022-03-06 09:13:10 +00:00)\n"
          ]
        }
      ]
    },
    {
      "cell_type": "code",
      "source": [
        "#Converts list of Strings to list of Cards\n",
        "def convert_to_card(card_string = []):\n",
        "  cards = []\n",
        "  for card in range(5):\n",
        "    #print(str(card_string[card]))\n",
        "    name = str(card_string[card])\n",
        "    _ = Card(name)\n",
        "    #print(_.card_name)\n",
        "    cards.append(_)\n",
        "  return cards"
      ],
      "metadata": {
        "id": "m7JptyoUQMUI",
        "colab": {
          "base_uri": "https://localhost:8080/"
        },
        "outputId": "f273de75-0624-4576-d1b1-93e7bc753148"
      },
      "execution_count": 104,
      "outputs": [
        {
          "output_type": "stream",
          "name": "stdout",
          "text": [
            "time: 6.15 ms (started: 2022-03-06 09:13:10 +00:00)\n"
          ]
        }
      ]
    },
    {
      "cell_type": "code",
      "source": [
        "#Test conversion of cards\n",
        "cards = [\"b\",\"b\",\"a\",\"a\",\"q\"]\n",
        "print(cards)\n",
        "\n",
        "cards = convert_to_card(cards)\n",
        "print(cards[0].card_name)"
      ],
      "metadata": {
        "colab": {
          "base_uri": "https://localhost:8080/"
        },
        "id": "NqqJXDOuTxnt",
        "outputId": "f488d5e9-bff2-4dfc-ab42-01688a26441e"
      },
      "execution_count": 105,
      "outputs": [
        {
          "output_type": "stream",
          "name": "stdout",
          "text": [
            "['b', 'b', 'a', 'a', 'q']\n",
            "b\n",
            "time: 6.08 ms (started: 2022-03-06 09:13:10 +00:00)\n"
          ]
        }
      ]
    },
    {
      "cell_type": "code",
      "source": [
        "#Sets owner of cards\n",
        "def adopt_cards(card_list = [Card], serv = Servant):\n",
        "  for card in range(len(card_list)):\n",
        "    card_list[card].card_owner = serv"
      ],
      "metadata": {
        "id": "omLLOCvCvG8x",
        "colab": {
          "base_uri": "https://localhost:8080/"
        },
        "outputId": "a67854b4-0bcc-45fa-9de6-3ead42bf8b6a"
      },
      "execution_count": 106,
      "outputs": [
        {
          "output_type": "stream",
          "name": "stdout",
          "text": [
            "time: 2.52 ms (started: 2022-03-06 09:13:10 +00:00)\n"
          ]
        }
      ]
    },
    {
      "cell_type": "code",
      "source": [
        "#Create 3 servants for use\n",
        "\n",
        "#Which is support\n",
        "support1 = False\n",
        "support2 = False\n",
        "support3 = True\n",
        "\n",
        "#Servant 1\n",
        "first_card = servants_df.iloc[0,4]\n",
        "second_card =  servants_df.iloc[0,5]\n",
        "third_card = servants_df.iloc[0,6]\n",
        "fourth_card = servants_df.iloc[0,7]\n",
        "fifth_card = servants_df.iloc[0,8]\n",
        "\n",
        "cards = [first_card,second_card,third_card,fourth_card,fifth_card]\n",
        "\n",
        "serv1 = Servant(str(servants_df.iloc[0,0]), str(servants_df.iloc[0,1]), int(servants_df.iloc[0,2]), int(servants_df.iloc[0,3]), support1)\n",
        "cards = convert_to_card(cards)\n",
        "\n",
        "serv1.cards = []\n",
        "serv1.add_cards(cards)\n",
        "\n",
        "adopt_cards(serv1.cards, serv1)\n",
        "\n",
        "serv1.current_cards = serv1.cards\n",
        "\n",
        "print(serv1.serv_name + \" is of class \" + serv1.serv_class + \" with cards: \")\n",
        "print(serv1.cards)\n",
        "print(\"These cards are owned by: \")\n",
        "print(serv1.cards[0].card_owner.serv_name)\n",
        "print(serv1.cards[0].card_name)\n",
        "\n",
        "print(\"\\n\")\n",
        "\n",
        "#End of Servant 1\n",
        "\n",
        "#Servant 2\n",
        "first_card = servants_df.iloc[1,4]\n",
        "second_card =  servants_df.iloc[1,5]\n",
        "third_card = servants_df.iloc[1,6]\n",
        "fourth_card = servants_df.iloc[1,7]\n",
        "fifth_card = servants_df.iloc[1,8]\n",
        "\n",
        "cards = [first_card,second_card,third_card,fourth_card,fifth_card]\n",
        "\n",
        "serv2 = Servant(str(servants_df.iloc[1,0]), str(servants_df.iloc[1,1]), int(servants_df.iloc[1,2]), int(servants_df.iloc[1,3]), support2)\n",
        "cards = convert_to_card(cards)\n",
        "\n",
        "serv2.cards = []\n",
        "serv2.add_cards(cards)\n",
        "\n",
        "adopt_cards(serv2.cards, serv2)\n",
        "\n",
        "serv2.current_cards = serv2.cards\n",
        "\n",
        "print(serv2.serv_name + \" is of class \" + serv2.serv_class + \" with cards: \")\n",
        "print(serv2.cards)\n",
        "print(\"These cards are owned by: \")\n",
        "print(serv2.cards[0].card_owner.serv_name)\n",
        "print(serv2.cards[2].card_name)\n",
        "\n",
        "print(\"\\n\")\n",
        "\n",
        "#End of Servant 2\n",
        "\n",
        "#Servant 3\n",
        "first_card = servants_df.iloc[2,4]\n",
        "second_card =  servants_df.iloc[2,5]\n",
        "third_card = servants_df.iloc[2,6]\n",
        "fourth_card = servants_df.iloc[2,7]\n",
        "fifth_card = servants_df.iloc[2,8]\n",
        "\n",
        "cards = [first_card,second_card,third_card,fourth_card,fifth_card]\n",
        "\n",
        "serv3 = Servant(str(servants_df.iloc[2,0]), str(servants_df.iloc[2,1]), int(servants_df.iloc[2,2]), int(servants_df.iloc[2,3]), support3)\n",
        "cards = convert_to_card(cards)\n",
        "\n",
        "serv3.cards = []\n",
        "serv3.add_cards(cards)\n",
        "\n",
        "adopt_cards(serv3.cards, serv3)\n",
        "\n",
        "serv3.current_cards = serv3.cards\n",
        "\n",
        "print(serv3.serv_name + \" is of class \" + serv3.serv_class + \" with cards: \")\n",
        "print(serv3.cards)\n",
        "print(\"These cards are owned by: \")\n",
        "print(serv3.cards[0].card_owner.serv_name)\n",
        "print(serv3.cards[4].card_name)\n",
        "\n",
        "#End of Servant 3"
      ],
      "metadata": {
        "colab": {
          "base_uri": "https://localhost:8080/"
        },
        "id": "edCZ5RJoZJUR",
        "outputId": "5577722e-d35b-443e-b7f2-1152801b4091"
      },
      "execution_count": 107,
      "outputs": [
        {
          "output_type": "stream",
          "name": "stdout",
          "text": [
            "Napolean is of class Archer with cards: \n",
            "[<__main__.Card object at 0x7fee8c6fc5d0>, <__main__.Card object at 0x7fee8c6fc650>, <__main__.Card object at 0x7fee8c6fc690>, <__main__.Card object at 0x7fee8c6fc610>, <__main__.Card object at 0x7fee8c6fc710>]\n",
            "These cards are owned by: \n",
            "Napolean\n",
            "Buster\n",
            "\n",
            "\n",
            "Ereshkigal is of class Lancer with cards: \n",
            "[<__main__.Card object at 0x7fee8c6fc750>, <__main__.Card object at 0x7fee8c6fc850>, <__main__.Card object at 0x7fee8c6fc950>, <__main__.Card object at 0x7fee8c6fc890>, <__main__.Card object at 0x7fee8c6fc810>]\n",
            "These cards are owned by: \n",
            "Ereshkigal\n",
            "Arts\n",
            "\n",
            "\n",
            "Nero is of class Saber with cards: \n",
            "[<__main__.Card object at 0x7fee8c6fc990>, <__main__.Card object at 0x7fee8c6fca90>, <__main__.Card object at 0x7fee8c6fca10>, <__main__.Card object at 0x7fee8c6fcad0>, <__main__.Card object at 0x7fee8c6fc590>]\n",
            "These cards are owned by: \n",
            "Nero\n",
            "Quick\n",
            "time: 108 ms (started: 2022-03-06 09:13:10 +00:00)\n"
          ]
        }
      ]
    },
    {
      "cell_type": "code",
      "source": [
        "#Create enemies\n",
        "nme1 = Enemy(enemies_df.iloc[0,0],enemies_df.iloc[0,1],enemies_df.iloc[0,2],enemies_df.iloc[0,3])\n",
        "nme2 = Enemy(enemies_df.iloc[1,0],enemies_df.iloc[1,1],enemies_df.iloc[1,2],enemies_df.iloc[1,3])\n",
        "nme3 = Enemy(enemies_df.iloc[2,0],enemies_df.iloc[2,1],enemies_df.iloc[2,2],enemies_df.iloc[2,3])\n",
        "             \n",
        "print(\"Enemy 1: \" + nme1.en_name + \"\\nClass: \" + nme1.en_class + \"\\nHealth: \" + str(nme1.en_health) + \"\\nDamage: \" + str(nme1.en_damage))\n",
        "print(\"\\n\")\n",
        "print(\"Enemy 2: \" + nme2.en_name + \"\\nClass: \" + nme2.en_class + \"\\nHealth: \" + str(nme2.en_health) + \"\\nDamage: \" + str(nme2.en_damage))\n",
        "print(\"\\n\")\n",
        "print(\"Enemy 3: \" + nme3.en_name + \"\\nClass: \" + nme3.en_class + \"\\nHealth: \" + str(nme3.en_health) + \"\\nDamage: \" + str(nme3.en_damage))"
      ],
      "metadata": {
        "colab": {
          "base_uri": "https://localhost:8080/"
        },
        "id": "w9YrvdipzZaY",
        "outputId": "30905edf-bd72-4980-f5d8-f2104143c605"
      },
      "execution_count": 108,
      "outputs": [
        {
          "output_type": "stream",
          "name": "stdout",
          "text": [
            "Enemy 1: Jeff Bezos\n",
            "Class: Ruler\n",
            "Health: 3\n",
            "Damage: 200000000000\n",
            "\n",
            "\n",
            "Enemy 2: Bill Gates\n",
            "Class: Caster\n",
            "Health: 1\n",
            "Damage: 120000000000\n",
            "\n",
            "\n",
            "Enemy 3: Elon Musk\n",
            "Class: Assassin\n",
            "Health: 2\n",
            "Damage: 304000000000\n",
            "time: 10 ms (started: 2022-03-06 09:13:11 +00:00)\n"
          ]
        }
      ]
    },
    {
      "cell_type": "code",
      "metadata": {
        "id": "YwzrXa9Jw80-",
        "colab": {
          "base_uri": "https://localhost:8080/"
        },
        "outputId": "8f15095f-b31d-4be3-fcdd-94e8c2d66686"
      },
      "source": [
        "class Board:\n",
        "  current_servs = [Servant]\n",
        "  current_enemies = [Enemy]\n",
        "  current_cards = [Card]\n",
        "  turn_num = 1\n",
        "  player_move = True\n",
        "\n",
        "  def __init__(self, characters = [Servant], enemies = [Enemy]):\n",
        "   self.current_servs = characters\n",
        "   self.current_enemies = enemies\n",
        "\n",
        "  def Display_Board(self):\n",
        "    print(\"To do\")\n",
        "\n",
        "  def pick_cards(self):\n",
        "    for i in range(5):\n",
        "      current_serv = rd.choice(self.current_servs)\n",
        "      for j in range(15):\n",
        "        rand = rd.choice(current_serv.cards)\n",
        "\n",
        "        self.current_cards.append(rand)\n",
        "\n",
        "  def end_turn(self):\n",
        "    self.turn_num = self.turn_num + 1\n",
        "    if (self.turn_num / 2):\n",
        "      self.player_move = False\n",
        "    else:\n",
        "      self.player_move = True\n",
        "\n",
        "  def state_of_game(self):\n",
        "    if(self.current_enemies[0].en_health + self.current_enemies[1].en_health + self.current_enemies[2].en_health > 0 and self.current_servs[0].serv_health + self.current_servs[1].serv_health + self.current_servs[2].serv_health > 0):\n",
        "      return \"U\"\n",
        "    if(self.current_servs[0].serv_health + self.current_servs[1].serv_health + self.current_servs[2].serv_health <= 0):\n",
        "      return \"L\"\n",
        "    if(self.current_enemies[0].en_health + self.current_enemies[1].en_health + self.current_enemies[2].en_health <= 0):\n",
        "      return \"W\"\n",
        "    "
      ],
      "execution_count": 109,
      "outputs": [
        {
          "output_type": "stream",
          "name": "stdout",
          "text": [
            "time: 33 ms (started: 2022-03-06 09:13:11 +00:00)\n"
          ]
        }
      ]
    },
    {
      "cell_type": "code",
      "source": [
        "#Gives list of card names\n",
        "def name_cards(card_list):\n",
        "  card_names = []\n",
        "  for i in range(len(card_list)):\n",
        "    print(card_list[i].card_name)\n",
        "    card_names.append(card_list[i].card_name)\n",
        "    \n",
        "  return card_names"
      ],
      "metadata": {
        "id": "ol_wSl7VTC2n",
        "colab": {
          "base_uri": "https://localhost:8080/"
        },
        "outputId": "e7358617-eccd-4a1b-efe5-67f810073505"
      },
      "execution_count": 110,
      "outputs": [
        {
          "output_type": "stream",
          "name": "stdout",
          "text": [
            "time: 4.73 ms (started: 2022-03-06 09:13:11 +00:00)\n"
          ]
        }
      ]
    },
    {
      "cell_type": "code",
      "source": [
        "#Test Board\n",
        "my_servs = [serv1,serv2,serv3]\n",
        "my_enemies = [nme1,nme2,nme3]\n",
        "\n",
        "brd1 = Board(my_servs,my_enemies)\n",
        "\n",
        "print(\"Servant 1: \" + brd1.current_servs[0].serv_name + \"\\nServant 2: \" + brd1.current_servs[1].serv_name + \"\\nServant 3: \" + brd1.current_servs[2].serv_name)\n",
        "print(\"\\nEnemy 1: \" + brd1.current_enemies[0].en_name + \"\\nEnemy 2: \" + brd1.current_enemies[1].en_name + \"\\nEnemy 3: \" + brd1.current_enemies[2].en_name)\n",
        "print(\"\\n\")\n",
        "brd1.current_servs[0].attack(brd1.current_enemies[0])\n",
        "brd1.pick_cards()\n",
        "\n",
        "#print(brd1.current_cards)\n",
        "#print(name_cards(brd1.current_cards))\n",
        "\n",
        "print(brd1.turn_num)\n",
        "print(brd1.player_move)\n",
        "brd1.end_turn()\n",
        "print(brd1.turn_num)\n",
        "print(brd1.player_move)"
      ],
      "metadata": {
        "colab": {
          "base_uri": "https://localhost:8080/"
        },
        "id": "uIqrD3W8NnaS",
        "outputId": "8cff2d76-9f59-416e-b625-510ef1d3e6cf"
      },
      "execution_count": 111,
      "outputs": [
        {
          "output_type": "stream",
          "name": "stdout",
          "text": [
            "Servant 1: Napolean\n",
            "Servant 2: Ereshkigal\n",
            "Servant 3: Nero\n",
            "\n",
            "Enemy 1: Jeff Bezos\n",
            "Enemy 2: Bill Gates\n",
            "Enemy 3: Elon Musk\n",
            "\n",
            "\n",
            "Jeff Bezos has lost -9997 and is now at 10000\n",
            "1\n",
            "True\n",
            "2\n",
            "False\n",
            "time: 14.7 ms (started: 2022-03-06 09:13:11 +00:00)\n"
          ]
        }
      ]
    },
    {
      "cell_type": "code",
      "source": [
        "def Pick_Attacks(cards = [Card]):\n",
        "  for card in range(len(cards) - 1):\n",
        "    if(cards[card].card_owner.serv_damage < cards[card + 1].card_owner.serv_damage):\n",
        "      cards[card], cards[card + 1] = cards[card + 1], cards[card]\n",
        "  return cards"
      ],
      "metadata": {
        "id": "rqvI7sMdiwm_",
        "colab": {
          "base_uri": "https://localhost:8080/"
        },
        "outputId": "9aadf895-9505-4395-d04e-0092abd0aa23"
      },
      "execution_count": 112,
      "outputs": [
        {
          "output_type": "stream",
          "name": "stdout",
          "text": [
            "time: 2.34 ms (started: 2022-03-06 09:13:11 +00:00)\n"
          ]
        }
      ]
    },
    {
      "cell_type": "code",
      "source": [
        "def Pick_Rand(ra, list = []):\n",
        "  new_list = []\n",
        "  for i in range(ra):\n",
        "    random_item = rd.choice(list)\n",
        "    new_list.append(random_item)\n",
        "  return new_list"
      ],
      "metadata": {
        "id": "m3mQdBgDqG66",
        "colab": {
          "base_uri": "https://localhost:8080/"
        },
        "outputId": "1fb96ac1-e4ba-4f78-ddf9-dacdeae11fee"
      },
      "execution_count": 113,
      "outputs": [
        {
          "output_type": "stream",
          "name": "stdout",
          "text": [
            "time: 4.48 ms (started: 2022-03-06 09:13:11 +00:00)\n"
          ]
        }
      ]
    },
    {
      "cell_type": "code",
      "source": [
        "def setup_cards(serv1c = [],serv2c = [],serv3c = []):\n",
        "  picked_cards = []\n",
        "\n",
        "  max_range = len(serv1c) + len(serv2c) + len(serv3c)\n",
        "\n",
        "  for i in range(5):\n",
        "    rand = rd.randrange(0,max_range)\n",
        "    print(rand)\n",
        "    if(rand <= 4):\n",
        "      picked_cards.append(serv1c[rand])\n",
        "      serv1c.pop(rand)\n",
        "    if(rand >= 4 and rand <= 9):\n",
        "      picked_cards.append(serv2c[rand - len(serv1c)])\n",
        "      serv2c.pop(rand - 5)\n",
        "    if(rand >= 9):\n",
        "      picked_cards.append(serv3[rand - (len(serv1c) + len(serv2c))])\n",
        "      serv2c.pop(rand - 10)\n",
        "  return picked_cards"
      ],
      "metadata": {
        "id": "vYntXetbKjX3",
        "colab": {
          "base_uri": "https://localhost:8080/"
        },
        "outputId": "8e10a4a6-f1db-4d53-bd88-03de6f88f8bb"
      },
      "execution_count": 114,
      "outputs": [
        {
          "output_type": "stream",
          "name": "stdout",
          "text": [
            "time: 9.65 ms (started: 2022-03-06 09:13:11 +00:00)\n"
          ]
        }
      ]
    },
    {
      "cell_type": "code",
      "source": [
        "#Finds all combinations\n",
        "def all_combos(cards = []):\n",
        "  combos = []\n",
        "  combos = list(combo(cards, 5))\n",
        "  return combos"
      ],
      "metadata": {
        "id": "xRIP4Ye5QTSc",
        "colab": {
          "base_uri": "https://localhost:8080/"
        },
        "outputId": "05b501bf-67f3-4678-eaa8-fde439a5b2f0"
      },
      "execution_count": 115,
      "outputs": [
        {
          "output_type": "stream",
          "name": "stdout",
          "text": [
            "time: 2.3 ms (started: 2022-03-06 09:13:11 +00:00)\n"
          ]
        }
      ]
    },
    {
      "cell_type": "code",
      "source": [
        "#Picks a random set of moves\n",
        "def pick_moves(moves = []):\n",
        "  rand_outer = rd.randrange(0,len(moves))\n",
        "  rand_inner = rd.randrange(0,len(moves[rand_outer]))\n",
        "  moves[rand_outer][rand_inner]\n",
        "  return moves[rand_outer][rand_inner], rand_outer, rand_inner"
      ],
      "metadata": {
        "id": "TSLiIjXrxPTc",
        "colab": {
          "base_uri": "https://localhost:8080/"
        },
        "outputId": "8f9eb75a-2711-4211-b695-354e2718503b"
      },
      "execution_count": 116,
      "outputs": [
        {
          "output_type": "stream",
          "name": "stdout",
          "text": [
            "time: 6.83 ms (started: 2022-03-06 09:13:11 +00:00)\n"
          ]
        }
      ]
    },
    {
      "cell_type": "code",
      "source": [
        "#Calculate value of given cards and gives back a list containing all values\n",
        "def calculate_value_list(cards = [Card]):\n",
        "  card_value_list = []\n",
        "  for card in range(len(cards)):\n",
        "    this_card = cards[card]\n",
        "    card_value = this_card.multip * this_card.card_owner.serv_damage\n",
        "    card_value_list.append(card_value)\n",
        "  return card_value_list"
      ],
      "metadata": {
        "id": "Q-IoD2TP-Jt2",
        "colab": {
          "base_uri": "https://localhost:8080/"
        },
        "outputId": "97da1e20-e129-43eb-d87b-e66ae7315689"
      },
      "execution_count": 117,
      "outputs": [
        {
          "output_type": "stream",
          "name": "stdout",
          "text": [
            "time: 4.25 ms (started: 2022-03-06 09:13:11 +00:00)\n"
          ]
        }
      ]
    },
    {
      "cell_type": "code",
      "source": [
        "#Calculates values for list of lists of cards\n",
        "def calculate_total_value(cards = [[Card]]):\n",
        "  l = []\n",
        "  for card in range(len(cards)):\n",
        "    _ = calculate_value_list(cards[card])\n",
        "    _ = [sum(_)]\n",
        "    _.append(card)\n",
        "    l.append(_)\n",
        "  return l"
      ],
      "metadata": {
        "id": "LTtnZyx0Bb2Y",
        "colab": {
          "base_uri": "https://localhost:8080/"
        },
        "outputId": "45dc4f84-3e60-47cb-a77e-d19d4e039591"
      },
      "execution_count": 118,
      "outputs": [
        {
          "output_type": "stream",
          "name": "stdout",
          "text": [
            "time: 4.25 ms (started: 2022-03-06 09:13:11 +00:00)\n"
          ]
        }
      ]
    },
    {
      "cell_type": "code",
      "source": [
        "#Return highest value of a list\n",
        "def find_highest_value(my_list):\n",
        "  my_list = sorted(my_list)\n",
        "  my_list.reverse()\n",
        "  return my_list[0]"
      ],
      "metadata": {
        "id": "hP-hKQSrhZyD",
        "colab": {
          "base_uri": "https://localhost:8080/"
        },
        "outputId": "aa159f16-59d3-4652-a32e-5dcfae6ae984"
      },
      "execution_count": 119,
      "outputs": [
        {
          "output_type": "stream",
          "name": "stdout",
          "text": [
            "time: 4.12 ms (started: 2022-03-06 09:13:11 +00:00)\n"
          ]
        }
      ]
    },
    {
      "cell_type": "code",
      "source": [
        "#Gets the combination of cards that do the maximum possible damage\n",
        "def maximise_damage(my_list = [[Card]]):\n",
        "  total_values = calculate_total_value(my_list)\n",
        "  highest_value = find_highest_value(total_values)\n",
        "  return my_list[highest_value[1]], highest_value[0]"
      ],
      "metadata": {
        "id": "o7o2yNivjQAv",
        "colab": {
          "base_uri": "https://localhost:8080/"
        },
        "outputId": "4d2db76c-f51d-4bc9-a4ec-c5e0efe6393e"
      },
      "execution_count": 120,
      "outputs": [
        {
          "output_type": "stream",
          "name": "stdout",
          "text": [
            "time: 2.94 ms (started: 2022-03-06 09:13:11 +00:00)\n"
          ]
        }
      ]
    },
    {
      "cell_type": "code",
      "source": [
        "#HERE BE TESTS\n",
        "serv1.current_cards = serv1.cards\n",
        "serv2.current_cards = serv2.cards\n",
        "serv3.current_cards = serv3.cards\n",
        "\n",
        "print(serv1.current_cards)\n",
        "print(serv2.current_cards)\n",
        "print(serv3.current_cards)\n",
        "\n",
        "cr = []\n",
        "#cr = setup_cards(serv1.current_cards, serv2.current_cards, serv3.current_cards)\n",
        "\n",
        "cr.extend(serv1.current_cards)\n",
        "cr.extend(serv2.current_cards)\n",
        "cr.extend(serv3.current_cards)"
      ],
      "metadata": {
        "colab": {
          "base_uri": "https://localhost:8080/"
        },
        "id": "ekJtJxShNW4-",
        "outputId": "a0bd95b7-359b-4c3d-b77f-d6046f029503"
      },
      "execution_count": 121,
      "outputs": [
        {
          "output_type": "stream",
          "name": "stdout",
          "text": [
            "[<__main__.Card object at 0x7fee8c6fc5d0>, <__main__.Card object at 0x7fee8c6fc650>, <__main__.Card object at 0x7fee8c6fc690>, <__main__.Card object at 0x7fee8c6fc610>, <__main__.Card object at 0x7fee8c6fc710>]\n",
            "[<__main__.Card object at 0x7fee8c6fc750>, <__main__.Card object at 0x7fee8c6fc850>, <__main__.Card object at 0x7fee8c6fc950>, <__main__.Card object at 0x7fee8c6fc890>, <__main__.Card object at 0x7fee8c6fc810>]\n",
            "[<__main__.Card object at 0x7fee8c6fc990>, <__main__.Card object at 0x7fee8c6fca90>, <__main__.Card object at 0x7fee8c6fca10>, <__main__.Card object at 0x7fee8c6fcad0>, <__main__.Card object at 0x7fee8c6fc590>]\n",
            "time: 10.5 ms (started: 2022-03-06 09:13:11 +00:00)\n"
          ]
        }
      ]
    },
    {
      "cell_type": "code",
      "source": [
        " #Part of remove_used_cards\n",
        "def remove_used_cards(all_cards = [Card], used_cards = [Card]):\n",
        "  for crd in range(len(used_cards)):\n",
        "    if(used_cards[crd] in all_cards):\n",
        "      all_cards.remove(used_cards[crd])\n",
        "  return all_cards\n",
        "\n",
        "#Removes used cards\n",
        "def remove_used_cards_list(all_cards = [], used_cards = []):\n",
        "  for i in range(len(used_cards)):\n",
        "    all_cards = remove_used_cards(all_cards, used_cards[i])\n",
        "  return all_cards"
      ],
      "metadata": {
        "id": "4K9JoNICyNZi",
        "colab": {
          "base_uri": "https://localhost:8080/"
        },
        "outputId": "26f09abd-b5ca-4036-e6ce-1d394d154d6e"
      },
      "execution_count": 130,
      "outputs": [
        {
          "output_type": "stream",
          "name": "stdout",
          "text": [
            "time: 13.3 ms (started: 2022-03-06 09:15:26 +00:00)\n"
          ]
        }
      ]
    },
    {
      "cell_type": "code",
      "source": [
        "class Tree_Node:\n",
        "  def __init__(self, cards = [], remaining_cards = [], turns_ahead = 0):\n",
        "    self.cards = cards\n",
        "    self.remaining_cards = remaining_cards\n",
        "    self.children = []\n",
        "    self.moves = []\n",
        "    self.moves_damage = []\n",
        "    self.turns_ahead = turns_ahead\n",
        "\n",
        "    self.create_children()\n",
        "\n",
        "    for node in self.children:\n",
        "      node.create_children()\n",
        "      node.moves = list(perm(remaining_cards, 3))\n",
        "      if(len(node.moves) > 0):\n",
        "        node.moves_damage = maximise_damage(node.moves)\n",
        "\n",
        "    #if (self.board.state_of_game() == \"U\"):\n",
        "\n",
        "    #if (self.board.state_of_game() == \"L\"):\n",
        "\n",
        "    #if (self.board.state_of_game() == \"W\"):\n",
        "\n",
        "  #Finds all moves possible from given set of Cards\n",
        "  def create_children(self):\n",
        "    if(self.turns_ahead < 2):\n",
        "      cards_for_nodes = []\n",
        "      cards_for_nodes = all_combos(self.remaining_cards)\n",
        "      next_turn = self.turns_ahead + 1\n",
        "      for i in cards_for_nodes:\n",
        "        crnt_cards = self.remaining_cards.copy()\n",
        "        crnt_cards = set(crnt_cards).difference(i)\n",
        "        self.children.append(Tree_Node(i, crnt_cards, next_turn))\n",
        "\n",
        "  def find_possible_moves(self):\n",
        "    for move in range(len(self.children)):\n",
        "      self.moves.append(Pick_r_from(3, self.children[move]))"
      ],
      "metadata": {
        "id": "gxSINMfrgu4W",
        "colab": {
          "base_uri": "https://localhost:8080/"
        },
        "outputId": "c6f0c500-0830-4d3c-a66c-bf526aeef49e"
      },
      "execution_count": 123,
      "outputs": [
        {
          "output_type": "stream",
          "name": "stdout",
          "text": [
            "time: 51.4 ms (started: 2022-03-06 09:13:11 +00:00)\n"
          ]
        }
      ]
    },
    {
      "cell_type": "code",
      "source": [
        "tes = []\n",
        "\n",
        "tes.extend(serv1.cards)\n",
        "tes.extend(serv2.cards)\n",
        "tes.extend(serv3.cards)\n",
        "\n",
        "print(len(tes))\n",
        "\n",
        "print(len(set(tes).difference(serv1.cards)))"
      ],
      "metadata": {
        "id": "JVS4aYATfjWb",
        "colab": {
          "base_uri": "https://localhost:8080/"
        },
        "outputId": "4b7eea93-8b8b-4073-b9f6-7621ab1d460d"
      },
      "execution_count": 124,
      "outputs": [
        {
          "output_type": "stream",
          "name": "stdout",
          "text": [
            "15\n",
            "10\n",
            "time: 10.1 ms (started: 2022-03-06 09:13:11 +00:00)\n"
          ]
        }
      ]
    },
    {
      "cell_type": "code",
      "source": [
        "tes2 = tes.copy()\n",
        "pkd_cards = rd.sample(tes2, 5)\n",
        "print(pkd_cards)\n",
        "rmn_cards = set(tes2).difference(pkd_cards)\n",
        "print(rmn_cards)\n",
        "\n",
        "tr = Tree_Node(pkd_cards, rmn_cards)"
      ],
      "metadata": {
        "id": "WbeXel7lENXB",
        "colab": {
          "base_uri": "https://localhost:8080/"
        },
        "outputId": "07b5dcbb-d3b8-4fc0-cdfd-7be77b74b063"
      },
      "execution_count": 134,
      "outputs": [
        {
          "output_type": "stream",
          "name": "stdout",
          "text": [
            "[<__main__.Card object at 0x7fee8c6fca90>, <__main__.Card object at 0x7fee8c6fc750>, <__main__.Card object at 0x7fee8c6fc950>, <__main__.Card object at 0x7fee8c6fc590>, <__main__.Card object at 0x7fee8c6fc5d0>]\n",
            "{<__main__.Card object at 0x7fee8c6fc610>, <__main__.Card object at 0x7fee8c6fc810>, <__main__.Card object at 0x7fee8c6fca10>, <__main__.Card object at 0x7fee8c6fc650>, <__main__.Card object at 0x7fee8c6fc850>, <__main__.Card object at 0x7fee8c6fc690>, <__main__.Card object at 0x7fee8c6fc890>, <__main__.Card object at 0x7fee8c6fcad0>, <__main__.Card object at 0x7fee8c6fc710>, <__main__.Card object at 0x7fee8c6fc990>}\n",
            "time: 937 ms (started: 2022-03-06 09:18:14 +00:00)\n"
          ]
        }
      ]
    },
    {
      "cell_type": "code",
      "source": [
        "print(len(tr.children))\n",
        "print(tr.children[0].children[0].cards)"
      ],
      "metadata": {
        "colab": {
          "base_uri": "https://localhost:8080/"
        },
        "id": "4uTR88Cwffit",
        "outputId": "7366b9d1-fc08-4e30-bb5e-4694c2782b36"
      },
      "execution_count": 135,
      "outputs": [
        {
          "output_type": "stream",
          "name": "stdout",
          "text": [
            "252\n",
            "(<__main__.Card object at 0x7fee8c6fc690>, <__main__.Card object at 0x7fee8c6fc890>, <__main__.Card object at 0x7fee8c6fcad0>, <__main__.Card object at 0x7fee8c6fc710>, <__main__.Card object at 0x7fee8c6fc990>)\n",
            "time: 2.15 ms (started: 2022-03-06 09:18:17 +00:00)\n"
          ]
        }
      ]
    }
  ]
}