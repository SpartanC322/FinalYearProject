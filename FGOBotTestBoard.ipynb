{
  "nbformat": 4,
  "nbformat_minor": 0,
  "metadata": {
    "colab": {
      "name": "FGOBotTestBoard.ipynb",
      "provenance": [],
      "collapsed_sections": [],
      "mount_file_id": "1Lu1OP9mW3Nc3d-fa6TAkUk-AOhWO1qB9",
      "authorship_tag": "ABX9TyMUZWE5S/WWtibz6wyazXaQ",
      "include_colab_link": true
    },
    "kernelspec": {
      "name": "python3",
      "display_name": "Python 3"
    },
    "language_info": {
      "name": "python"
    },
    "accelerator": "GPU"
  },
  "cells": [
    {
      "cell_type": "markdown",
      "metadata": {
        "id": "view-in-github",
        "colab_type": "text"
      },
      "source": [
        "<a href=\"https://colab.research.google.com/github/SpartanC322/FinalYearProject/blob/main/FGOBotTestBoard.ipynb\" target=\"_parent\"><img src=\"https://colab.research.google.com/assets/colab-badge.svg\" alt=\"Open In Colab\"/></a>"
      ]
    },
    {
      "cell_type": "code",
      "source": [
        "import random as rd\n",
        "import pandas as pd"
      ],
      "metadata": {
        "id": "-528tFh88hha"
      },
      "execution_count": null,
      "outputs": []
    },
    {
      "cell_type": "code",
      "metadata": {
        "id": "sa1nzfickTgZ"
      },
      "source": [
        "#Attack Cards\n",
        "class Card:\n",
        "  card_name = \"\"\n",
        "  card_owner = \"\"\n",
        "  multip = 0\n",
        "  charge = 0\n",
        "\n",
        "  def __init__(self,card_name):\n",
        "    self.card_name = card_name\n",
        "    if(self.card_name == \"Buster\"):\n",
        "      self.multip = 1.5\n",
        "    if(self.card_name == \"Arts\"):\n",
        "      self.multip = 1\n",
        "    if(self.card_name == \"Quick\"):\n",
        "      self.multip = 0.8\n",
        "\n",
        "  def assign_owner(self, owner):\n",
        "    self.card_owner = owner"
      ],
      "execution_count": null,
      "outputs": []
    },
    {
      "cell_type": "code",
      "metadata": {
        "id": "ke8SNWQBpJRc"
      },
      "source": [
        "#Player Combatant\n",
        "class Servant:\n",
        "  serv_name = \"\"\n",
        "  serv_class = \"\"\n",
        "  serv_damage = \"\"\n",
        "  serv_health = \"\"\n",
        "  np = 0\n",
        "  cards = []\n",
        "  current_card = []\n",
        "  is_support = False\n",
        "\n",
        "  def __init__(self,serv_name ,serv_class, serv_health, serv_damage, is_support):\n",
        "    self.serv_name = serv_name\n",
        "    self.serv_class = serv_class\n",
        "    self.serv_health = serv_health\n",
        "    self.serv_damage = serv_damage\n",
        "    self.is_support = is_support\n",
        "\n",
        "  def add_cards(self, cards = [Card]):\n",
        "    for card in range(len(cards)):\n",
        "      self.cards.append(cards[card])\n",
        "      cards[card].assign_owner = self\n",
        "\n",
        "  def attack(self, enemy):\n",
        "    loss = enemy.en_health - self.serv_damage\n",
        "    enemy.en_health = enemy.en_health - loss\n",
        "    print(enemy.en_name + \" has lost \" + str(loss) + \" and is now at \" + str(enemy.en_health))"
      ],
      "execution_count": null,
      "outputs": []
    },
    {
      "cell_type": "code",
      "source": [
        "#Non Plyaer Combatant\n",
        "class Enemy:\n",
        "  en_name = \"\"\n",
        "  en_class = \"\"\n",
        "  en_health = 0\n",
        "  en_damage = 0\n",
        "\n",
        "  def __init__(self, en_name, en_class, en_health, en_damage):\n",
        "    self.en_name = en_name\n",
        "    self.en_class = en_class\n",
        "    self.en_health = en_health\n",
        "    self.en_damage = en_damage\n",
        "\n",
        "  def attack(self, servant = Servant):\n",
        "    servant.serv_health = servant.serv_health - self.en_damage"
      ],
      "metadata": {
        "id": "z2Ibl7gTwNwV"
      },
      "execution_count": null,
      "outputs": []
    },
    {
      "cell_type": "code",
      "metadata": {
        "id": "0Mlvni--2__-"
      },
      "source": [
        "#Create all possible combinations from given list\n",
        "def Pick_r_from(r,list_of_items):\n",
        "  if r ==1:\n",
        "    return list( map(lambda e:[e],list_of_items))\n",
        "  sequences = []\n",
        "  for item_index in range(len(list_of_items)):\n",
        "    for remaining in Pick_r_from(r-1,list_of_items[:item_index]+list_of_items[item_index+1:]):\n",
        "      sequences.append([list_of_items[item_index]]+ remaining)\n",
        "  return sequences"
      ],
      "execution_count": null,
      "outputs": []
    },
    {
      "cell_type": "code",
      "metadata": {
        "id": "x5s0r-mW6cAg",
        "colab": {
          "base_uri": "https://localhost:8080/"
        },
        "outputId": "e9d4bfc7-5b16-4d24-97cc-fb029a9a87e2"
      },
      "source": [
        "#Test Pick_r_from\n",
        "l = Pick_r_from(3,[\"q\",\"q\",\"a\",\"b\",\"b\"])\n",
        "l[0]"
      ],
      "execution_count": null,
      "outputs": [
        {
          "output_type": "execute_result",
          "data": {
            "text/plain": [
              "['q', 'q', 'a']"
            ]
          },
          "metadata": {},
          "execution_count": 6
        }
      ]
    },
    {
      "cell_type": "code",
      "source": [
        "#Import Servant CSV from google drive\n",
        "path = \"/content/drive/MyDrive/FYP/Servants.csv\"\n",
        "servants_df = pd.read_csv(path)\n",
        "\n",
        "print(servants_df)"
      ],
      "metadata": {
        "colab": {
          "base_uri": "https://localhost:8080/"
        },
        "id": "gMjfnJl_bexH",
        "outputId": "50954872-93f8-466e-917d-1114bd825a80"
      },
      "execution_count": null,
      "outputs": [
        {
          "output_type": "stream",
          "name": "stdout",
          "text": [
            "         Name   Class  Health  Damage   Card1   Card2 Card3  Card4  Card5\n",
            "0    Napolean  Archer   20000   10000  Buster  Buster  Arts   Arts  Quick\n",
            "1  Ereshkigal  Lancer   25000   12000  Buster  Buster  Arts  Quick  Quick\n",
            "2        Nero   Saber   20000   20000  Buster  Buster  Arts   Arts  Quick\n"
          ]
        }
      ]
    },
    {
      "cell_type": "code",
      "source": [
        "#Import Enemy CSV from google drive\n",
        "path = \"/content/drive/MyDrive/FYP/Enemies.csv\"\n",
        "enemies_df = pd.read_csv(path)\n",
        "\n",
        "print(enemies_df)"
      ],
      "metadata": {
        "colab": {
          "base_uri": "https://localhost:8080/"
        },
        "id": "0JpzuDYOH-2V",
        "outputId": "bb110172-6817-4ed2-a1b6-ef103605b877"
      },
      "execution_count": null,
      "outputs": [
        {
          "output_type": "stream",
          "name": "stdout",
          "text": [
            "         Name     Class  Damage        Health\n",
            "0  Jeff Bezos     Ruler       3  200000000000\n",
            "1  Bill Gates    Caster       1  120000000000\n",
            "2   Elon Musk  Assassin       2  304000000000\n"
          ]
        }
      ]
    },
    {
      "cell_type": "code",
      "source": [
        "#Converts list of Strings to list of Cards\n",
        "def convert_to_card(card_string = []):\n",
        "  cards = []\n",
        "  for card in range(5):\n",
        "    #print(str(card_string[card]))\n",
        "    name = str(card_string[card])\n",
        "    _ = Card(name)\n",
        "    #print(_.card_name)\n",
        "    cards.append(_)\n",
        "  return cards"
      ],
      "metadata": {
        "id": "m7JptyoUQMUI"
      },
      "execution_count": null,
      "outputs": []
    },
    {
      "cell_type": "code",
      "source": [
        "#Test conversion of cards\n",
        "cards = [\"b\",\"b\",\"a\",\"a\",\"q\"]\n",
        "print(cards)\n",
        "\n",
        "cards = convert_to_card(cards)\n",
        "print(cards[0].card_name)"
      ],
      "metadata": {
        "colab": {
          "base_uri": "https://localhost:8080/"
        },
        "id": "NqqJXDOuTxnt",
        "outputId": "adc26b20-5955-4ecd-efba-289cef6d4ad9"
      },
      "execution_count": null,
      "outputs": [
        {
          "output_type": "stream",
          "name": "stdout",
          "text": [
            "['b', 'b', 'a', 'a', 'q']\n",
            "b\n"
          ]
        }
      ]
    },
    {
      "cell_type": "code",
      "source": [
        "#Sets owner of cards\n",
        "def adopt_cards(card_list = [Card], serv = Servant):\n",
        "  for card in range(len(card_list)):\n",
        "    card_list[card].card_owner = serv"
      ],
      "metadata": {
        "id": "omLLOCvCvG8x"
      },
      "execution_count": null,
      "outputs": []
    },
    {
      "cell_type": "code",
      "source": [
        "#Create 3 servants for use\n",
        "\n",
        "#Which is support\n",
        "support1 = False\n",
        "support2 = False\n",
        "support3 = True\n",
        "\n",
        "#Servant 1\n",
        "first_card = servants_df.iloc[0,4]\n",
        "second_card =  servants_df.iloc[0,5]\n",
        "third_card = servants_df.iloc[0,6]\n",
        "fourth_card = servants_df.iloc[0,7]\n",
        "fifth_card = servants_df.iloc[0,8]\n",
        "\n",
        "cards = [first_card,second_card,third_card,fourth_card,fifth_card]\n",
        "\n",
        "serv1 = Servant(str(servants_df.iloc[0,0]), str(servants_df.iloc[0,1]), int(servants_df.iloc[0,2]), int(servants_df.iloc[0,3]), support1)\n",
        "cards = convert_to_card(cards)\n",
        "\n",
        "serv1.cards = []\n",
        "serv1.add_cards(cards)\n",
        "\n",
        "adopt_cards(serv1.cards, serv1)\n",
        "\n",
        "serv1.current_cards = serv1.cards\n",
        "\n",
        "print(serv1.serv_name + \" is of class \" + serv1.serv_class + \" with cards: \")\n",
        "print(serv1.cards)\n",
        "print(\"These cards are owned by: \")\n",
        "print(serv1.cards[0].card_owner.serv_name)\n",
        "print(serv1.cards[0].card_name)\n",
        "\n",
        "print(\"\\n\")\n",
        "\n",
        "#End of Servant 1\n",
        "\n",
        "#Servant 2\n",
        "first_card = servants_df.iloc[1,4]\n",
        "second_card =  servants_df.iloc[1,5]\n",
        "third_card = servants_df.iloc[1,6]\n",
        "fourth_card = servants_df.iloc[1,7]\n",
        "fifth_card = servants_df.iloc[1,8]\n",
        "\n",
        "cards = [first_card,second_card,third_card,fourth_card,fifth_card]\n",
        "\n",
        "serv2 = Servant(str(servants_df.iloc[1,0]), str(servants_df.iloc[1,1]), int(servants_df.iloc[1,2]), int(servants_df.iloc[1,3]), support2)\n",
        "cards = convert_to_card(cards)\n",
        "\n",
        "serv2.cards = []\n",
        "serv2.add_cards(cards)\n",
        "\n",
        "adopt_cards(serv2.cards, serv2)\n",
        "\n",
        "serv2.current_cards = serv2.cards\n",
        "\n",
        "print(serv2.serv_name + \" is of class \" + serv2.serv_class + \" with cards: \")\n",
        "print(serv2.cards)\n",
        "print(\"These cards are owned by: \")\n",
        "print(serv2.cards[0].card_owner.serv_name)\n",
        "print(serv2.cards[2].card_name)\n",
        "\n",
        "print(\"\\n\")\n",
        "\n",
        "#End of Servant 2\n",
        "\n",
        "#Servant 3\n",
        "first_card = servants_df.iloc[2,4]\n",
        "second_card =  servants_df.iloc[2,5]\n",
        "third_card = servants_df.iloc[2,6]\n",
        "fourth_card = servants_df.iloc[2,7]\n",
        "fifth_card = servants_df.iloc[2,8]\n",
        "\n",
        "cards = [first_card,second_card,third_card,fourth_card,fifth_card]\n",
        "\n",
        "serv3 = Servant(str(servants_df.iloc[2,0]), str(servants_df.iloc[2,1]), int(servants_df.iloc[2,2]), int(servants_df.iloc[2,3]), support3)\n",
        "cards = convert_to_card(cards)\n",
        "\n",
        "serv3.cards = []\n",
        "serv3.add_cards(cards)\n",
        "\n",
        "adopt_cards(serv3.cards, serv3)\n",
        "\n",
        "serv3.current_cards = serv3.cards\n",
        "\n",
        "print(serv3.serv_name + \" is of class \" + serv3.serv_class + \" with cards: \")\n",
        "print(serv3.cards)\n",
        "print(\"These cards are owned by: \")\n",
        "print(serv3.cards[0].card_owner.serv_name)\n",
        "print(serv3.cards[4].card_name)\n",
        "\n",
        "#End of Servant 3"
      ],
      "metadata": {
        "colab": {
          "base_uri": "https://localhost:8080/"
        },
        "id": "edCZ5RJoZJUR",
        "outputId": "8ebb0b73-c4e6-4750-bda7-d54c50dd3f75"
      },
      "execution_count": null,
      "outputs": [
        {
          "output_type": "stream",
          "name": "stdout",
          "text": [
            "Napolean is of class Archer with cards: \n",
            "[<__main__.Card object at 0x7fbcf8de7210>, <__main__.Card object at 0x7fbcf8d46050>, <__main__.Card object at 0x7fbcf8d46110>, <__main__.Card object at 0x7fbcf8d46090>, <__main__.Card object at 0x7fbcf8d69310>]\n",
            "These cards are owned by: \n",
            "Napolean\n",
            "Buster\n",
            "\n",
            "\n",
            "Ereshkigal is of class Lancer with cards: \n",
            "[<__main__.Card object at 0x7fbcf8d691d0>, <__main__.Card object at 0x7fbcf8d69450>, <__main__.Card object at 0x7fbcf8d69650>, <__main__.Card object at 0x7fbcf8d69810>, <__main__.Card object at 0x7fbcf8d69550>]\n",
            "These cards are owned by: \n",
            "Ereshkigal\n",
            "Arts\n",
            "\n",
            "\n",
            "Nero is of class Saber with cards: \n",
            "[<__main__.Card object at 0x7fbcf8d69410>, <__main__.Card object at 0x7fbcf8d692d0>, <__main__.Card object at 0x7fbcf8d697d0>, <__main__.Card object at 0x7fbcf8d69790>, <__main__.Card object at 0x7fbcf8d69610>]\n",
            "These cards are owned by: \n",
            "Nero\n",
            "Quick\n"
          ]
        }
      ]
    },
    {
      "cell_type": "code",
      "source": [
        "#Create enemies\n",
        "nme1 = Enemy(enemies_df.iloc[0,0],enemies_df.iloc[0,1],enemies_df.iloc[0,2],enemies_df.iloc[0,3])\n",
        "nme2 = Enemy(enemies_df.iloc[1,0],enemies_df.iloc[1,1],enemies_df.iloc[1,2],enemies_df.iloc[1,3])\n",
        "nme3 = Enemy(enemies_df.iloc[2,0],enemies_df.iloc[2,1],enemies_df.iloc[2,2],enemies_df.iloc[2,3])\n",
        "             \n",
        "print(\"Enemy 1: \" + nme1.en_name + \"\\nClass: \" + nme1.en_class + \"\\nHealth: \" + str(nme1.en_health) + \"\\nDamage: \" + str(nme1.en_damage))\n",
        "print(\"\\n\")\n",
        "print(\"Enemy 2: \" + nme2.en_name + \"\\nClass: \" + nme2.en_class + \"\\nHealth: \" + str(nme2.en_health) + \"\\nDamage: \" + str(nme2.en_damage))\n",
        "print(\"\\n\")\n",
        "print(\"Enemy 3: \" + nme3.en_name + \"\\nClass: \" + nme3.en_class + \"\\nHealth: \" + str(nme3.en_health) + \"\\nDamage: \" + str(nme3.en_damage))"
      ],
      "metadata": {
        "colab": {
          "base_uri": "https://localhost:8080/"
        },
        "id": "w9YrvdipzZaY",
        "outputId": "5ad93e81-596d-42c7-d5ed-b41d5c8f7ddf"
      },
      "execution_count": null,
      "outputs": [
        {
          "output_type": "stream",
          "name": "stdout",
          "text": [
            "Enemy 1: Jeff Bezos\n",
            "Class: Ruler\n",
            "Health: 3\n",
            "Damage: 200000000000\n",
            "\n",
            "\n",
            "Enemy 2: Bill Gates\n",
            "Class: Caster\n",
            "Health: 1\n",
            "Damage: 120000000000\n",
            "\n",
            "\n",
            "Enemy 3: Elon Musk\n",
            "Class: Assassin\n",
            "Health: 2\n",
            "Damage: 304000000000\n"
          ]
        }
      ]
    },
    {
      "cell_type": "code",
      "metadata": {
        "id": "YwzrXa9Jw80-"
      },
      "source": [
        "class Board:\n",
        "  current_servs = [Servant]\n",
        "  current_enemies = [Enemy]\n",
        "  current_cards = [Card]\n",
        "  turn_num = 1\n",
        "  player_move = True\n",
        "\n",
        "  def __init__(self, characters = [Servant], enemies = [Enemy]):\n",
        "   self.current_servs = characters\n",
        "   self.current_enemies = enemies\n",
        "\n",
        "  def Display_Board(self):\n",
        "    print(\"To do\")\n",
        "\n",
        "  def pick_cards(self):\n",
        "    for i in range(5):\n",
        "      current_serv = rd.choice(self.current_servs)\n",
        "      for j in range(15):\n",
        "        rand = rd.choice(current_serv.cards)\n",
        "\n",
        "        self.current_cards.append(rand)\n",
        "\n",
        "  def end_turn(self):\n",
        "    self.turn_num = self.turn_num + 1\n",
        "    if (self.turn_num / 2):\n",
        "      self.player_move = False\n",
        "    else:\n",
        "      self.player_move = True"
      ],
      "execution_count": null,
      "outputs": []
    },
    {
      "cell_type": "code",
      "source": [
        "#Gives list of card names\n",
        "def name_cards(card_list):\n",
        "  card_names = []\n",
        "  for i in range(len(card_list)):\n",
        "    print(card_list[i].card_name)\n",
        "    card_names.append(card_list[i].card_name)\n",
        "    \n",
        "  return card_names"
      ],
      "metadata": {
        "id": "ol_wSl7VTC2n"
      },
      "execution_count": null,
      "outputs": []
    },
    {
      "cell_type": "code",
      "source": [
        "#Test Board\n",
        "my_servs = [serv1,serv2,serv3]\n",
        "my_enemies = [nme1,nme2,nme3]\n",
        "\n",
        "brd1 = Board(my_servs,my_enemies)\n",
        "\n",
        "print(\"Servant 1: \" + brd1.current_servs[0].serv_name + \"\\nServant 2: \" + brd1.current_servs[1].serv_name + \"\\nServant 3: \" + brd1.current_servs[2].serv_name)\n",
        "print(\"\\nEnemy 1: \" + brd1.current_enemies[0].en_name + \"\\nEnemy 2: \" + brd1.current_enemies[1].en_name + \"\\nEnemy 3: \" + brd1.current_enemies[2].en_name)\n",
        "print(\"\\n\")\n",
        "brd1.current_servs[0].attack(brd1.current_enemies[0])\n",
        "brd1.pick_cards()\n",
        "\n",
        "#print(brd1.current_cards)\n",
        "#print(name_cards(brd1.current_cards))\n",
        "\n",
        "print(brd1.turn_num)\n",
        "print(brd1.player_move)\n",
        "brd1.end_turn()\n",
        "print(brd1.turn_num)\n",
        "print(brd1.player_move)"
      ],
      "metadata": {
        "colab": {
          "base_uri": "https://localhost:8080/"
        },
        "id": "uIqrD3W8NnaS",
        "outputId": "b794085f-b13f-4447-8d9f-d0226813ffda"
      },
      "execution_count": null,
      "outputs": [
        {
          "output_type": "stream",
          "name": "stdout",
          "text": [
            "Servant 1: Napolean\n",
            "Servant 2: Ereshkigal\n",
            "Servant 3: Nero\n",
            "\n",
            "Enemy 1: Jeff Bezos\n",
            "Enemy 2: Bill Gates\n",
            "Enemy 3: Elon Musk\n",
            "\n",
            "\n",
            "Jeff Bezos has lost -9997 and is now at 10000\n",
            "1\n",
            "True\n",
            "2\n",
            "False\n"
          ]
        }
      ]
    },
    {
      "cell_type": "code",
      "source": [
        "def Pick_Attacks(cards = [Card]):\n",
        "  for card in range(len(cards) - 1):\n",
        "    if(cards[card].card_owner.serv_damage < cards[card + 1].card_owner.serv_damage):\n",
        "      cards[card], cards[card + 1] = cards[card + 1], cards[card]\n",
        "  return cards"
      ],
      "metadata": {
        "id": "rqvI7sMdiwm_"
      },
      "execution_count": null,
      "outputs": []
    },
    {
      "cell_type": "code",
      "source": [
        "def Pick_Rand(ra, list = []):\n",
        "  new_list = []\n",
        "  for i in range(ra):\n",
        "    random_item = rd.choice(list)\n",
        "    new_list.append(random_item)\n",
        "  return new_list"
      ],
      "metadata": {
        "id": "m3mQdBgDqG66"
      },
      "execution_count": null,
      "outputs": []
    },
    {
      "cell_type": "code",
      "source": [
        "def setup_cards(serv1c = [],serv2c = [],serv3c = []):\n",
        "  picked_cards = []\n",
        "\n",
        "  max_range = len(serv1c) + len(serv2c) + len(serv3c)\n",
        "\n",
        "  for i in range(5):\n",
        "    rand = rd.randrange(0,max_range)\n",
        "    print(rand)\n",
        "    if(rand <= 4):\n",
        "      picked_cards.append(serv1c[rand])\n",
        "      serv1c.pop(rand)\n",
        "    if(rand >= 4 and rand <= 9):\n",
        "      picked_cards.append(serv2c[rand - len(serv1c)])\n",
        "      serv2c.pop(rand - 5)\n",
        "    if(rand >= 9):\n",
        "      picked_cards.append(serv3[rand - (len(serv1c) + len(serv2c))])\n",
        "      serv2c.pop(rand - 10)\n",
        "  return picked_cards"
      ],
      "metadata": {
        "id": "vYntXetbKjX3"
      },
      "execution_count": null,
      "outputs": []
    },
    {
      "cell_type": "code",
      "source": [
        "#Finds all moves possible from given set of Cards\n",
        "def find_possible_moves(all_moves = [Card]):\n",
        "  next_moves = Pick_r_from(5, all_moves)\n",
        "  all_possi_moves = []\n",
        "  for move in range(len(next_moves)):\n",
        "    all_possi_moves.append(Pick_r_from(3,next_moves[move]))\n",
        "  return all_possi_moves"
      ],
      "metadata": {
        "id": "qch-SliCBFtj"
      },
      "execution_count": null,
      "outputs": []
    },
    {
      "cell_type": "code",
      "source": [
        "#Picks a random set of moves\n",
        "def pick_moves(moves = [[[]]]):\n",
        "  rand_outer = rd.randrange(0,len(moves))\n",
        "  rand_inner = rd.randrange(0,len(moves[rand_outer]))\n",
        "  moves[rand_outer][rand_inner]\n",
        "  return moves[rand_outer][rand_inner], rand_outer, rand_inner"
      ],
      "metadata": {
        "id": "TSLiIjXrxPTc"
      },
      "execution_count": null,
      "outputs": []
    },
    {
      "cell_type": "code",
      "source": [
        "def remove_used_cards_lower(all_cards = [Card], used_cards = []):\n",
        "  for crd in range(len(used_cards)):\n",
        "    if(used_cards[crd] in all_cards):\n",
        "      all_cards.remove(used_cards[crd])\n",
        "  return all_cards"
      ],
      "metadata": {
        "id": "3gD9u9JRheZJ"
      },
      "execution_count": null,
      "outputs": []
    },
    {
      "cell_type": "code",
      "source": [
        "#Removes used cards\n",
        "def remove_used_cards(all_cards = [Card], used_cards = []):\n",
        "  for i in range(len(used_cards)):\n",
        "    all_cards = remove_used_cards_lower(all_cards, used_cards[i])\n",
        "  \n",
        "  print(all_cards)\n",
        "  return all_cards"
      ],
      "metadata": {
        "id": "sMc7Qa5klTV2"
      },
      "execution_count": null,
      "outputs": []
    },
    {
      "cell_type": "code",
      "source": [
        "#Calculate value of given cards and gives back a list containing all values\n",
        "def calculate_value_list(cards = [Card]):\n",
        "  card_value_list = []\n",
        "  for card in range(len(cards)):\n",
        "    card_value = cards[card].multip * cards[card].card_owner.serv_damage\n",
        "    card_value_list.append(card_value)\n",
        "  return card_value_list"
      ],
      "metadata": {
        "id": "Q-IoD2TP-Jt2"
      },
      "execution_count": null,
      "outputs": []
    },
    {
      "cell_type": "code",
      "source": [
        "#Calculates values for list of lists of cards\n",
        "def calculate_total_value(cards = [[Card]]):\n",
        "  l = []\n",
        "  for card in range(len(cards)):\n",
        "    print(cards[card])\n",
        "    _ = calculate_value_list(cards[card])\n",
        "    _ = [sum(_)]\n",
        "    _.append(card)\n",
        "    l.append(_)\n",
        "  return l"
      ],
      "metadata": {
        "id": "LTtnZyx0Bb2Y"
      },
      "execution_count": null,
      "outputs": []
    },
    {
      "cell_type": "code",
      "source": [
        "#Return highest value of a list\n",
        "def find_highest_value(my_list):\n",
        "  my_list = sorted(my_list)\n",
        "  my_list.reverse()\n",
        "  return my_list[0]"
      ],
      "metadata": {
        "id": "hP-hKQSrhZyD"
      },
      "execution_count": null,
      "outputs": []
    },
    {
      "cell_type": "code",
      "source": [
        "#Gets the combination of cards that do the maximum possible damage\n",
        "def maximise_damage(my_list = [[Card]]):\n",
        "  total_values = calculate_total_value(my_list)\n",
        "  highest_value = find_highest_value(total_values)\n",
        "  return my_list[highest_value[1]]"
      ],
      "metadata": {
        "id": "o7o2yNivjQAv"
      },
      "execution_count": null,
      "outputs": []
    },
    {
      "cell_type": "code",
      "source": [
        "#HERE BE TESTS\n",
        "serv1.current_cards = serv1.cards\n",
        "serv2.current_cards = serv2.cards\n",
        "serv3.current_cards = serv3.cards\n",
        "\n",
        "print(serv1.current_cards)\n",
        "print(serv2.current_cards)\n",
        "print(serv3.current_cards)\n",
        "\n",
        "cr = []\n",
        "#cr = setup_cards(serv1.current_cards, serv2.current_cards, serv3.current_cards)\n",
        "\n",
        "cr.extend(serv1.current_cards)\n",
        "cr.extend(serv2.current_cards)\n",
        "cr.extend(serv3.current_cards)\n",
        "\n",
        "print(len(cr))\n",
        "\n",
        "test_all = Pick_r_from(5, cr)\n",
        "\n",
        "print(test_all[3])"
      ],
      "metadata": {
        "colab": {
          "base_uri": "https://localhost:8080/"
        },
        "id": "ekJtJxShNW4-",
        "outputId": "e5e001d4-5cb2-4bfb-a751-3741efbe670d"
      },
      "execution_count": null,
      "outputs": [
        {
          "output_type": "stream",
          "name": "stdout",
          "text": [
            "[<__main__.Card object at 0x7fbcf8de7210>, <__main__.Card object at 0x7fbcf8d46050>, <__main__.Card object at 0x7fbcf8d46110>, <__main__.Card object at 0x7fbcf8d46090>, <__main__.Card object at 0x7fbcf8d69310>]\n",
            "[<__main__.Card object at 0x7fbcf8d691d0>, <__main__.Card object at 0x7fbcf8d69450>, <__main__.Card object at 0x7fbcf8d69650>, <__main__.Card object at 0x7fbcf8d69810>, <__main__.Card object at 0x7fbcf8d69550>]\n",
            "[<__main__.Card object at 0x7fbcf8d69410>, <__main__.Card object at 0x7fbcf8d692d0>, <__main__.Card object at 0x7fbcf8d697d0>, <__main__.Card object at 0x7fbcf8d69790>, <__main__.Card object at 0x7fbcf8d69610>]\n",
            "15\n",
            "[<__main__.Card object at 0x7fbcf8de7210>, <__main__.Card object at 0x7fbcf8d46050>, <__main__.Card object at 0x7fbcf8d46110>, <__main__.Card object at 0x7fbcf8d46090>, <__main__.Card object at 0x7fbcf8d69650>]\n"
          ]
        }
      ]
    },
    {
      "cell_type": "code",
      "source": [
        "test_tree = []\n",
        "test_tree = find_possible_moves(cr)"
      ],
      "metadata": {
        "id": "D_SbgOClHFnN"
      },
      "execution_count": null,
      "outputs": []
    },
    {
      "cell_type": "code",
      "source": [
        "print(len(test_tree))"
      ],
      "metadata": {
        "colab": {
          "base_uri": "https://localhost:8080/"
        },
        "id": "DpR6_tBD57wn",
        "outputId": "a543b64b-071c-42e8-a3fa-54e6aa92501c"
      },
      "execution_count": null,
      "outputs": [
        {
          "output_type": "stream",
          "name": "stdout",
          "text": [
            "360360\n"
          ]
        }
      ]
    },
    {
      "cell_type": "code",
      "source": [
        "rand_outer = rd.randrange(0,len(test_tree))\n",
        "rand_inner = rd.randrange(0,len(test_tree[rand_outer]))\n",
        "\n",
        "print(rand_outer)\n",
        "print(rand_inner)\n",
        "\n",
        "test_tree[rand_outer][rand_inner]"
      ],
      "metadata": {
        "colab": {
          "base_uri": "https://localhost:8080/"
        },
        "id": "66KAW9CHctiP",
        "outputId": "6b62a113-4773-4ed2-fe35-a59f8ee07b7d"
      },
      "execution_count": null,
      "outputs": [
        {
          "output_type": "stream",
          "name": "stdout",
          "text": [
            "49280\n",
            "9\n"
          ]
        },
        {
          "output_type": "execute_result",
          "data": {
            "text/plain": [
              "[<__main__.Card at 0x7fbcf8d46110>,\n",
              " <__main__.Card at 0x7fbcf8d46050>,\n",
              " <__main__.Card at 0x7fbcf8de7210>]"
            ]
          },
          "metadata": {},
          "execution_count": 29
        }
      ]
    },
    {
      "cell_type": "code",
      "source": [
        "crtester = []\n",
        "crtester.extend(cr)\n",
        "print(len(crtester))"
      ],
      "metadata": {
        "colab": {
          "base_uri": "https://localhost:8080/"
        },
        "id": "A04cbrckkF5G",
        "outputId": "4dcc5b08-c578-47bc-bbf8-7f549aa45c4e"
      },
      "execution_count": null,
      "outputs": [
        {
          "output_type": "stream",
          "name": "stdout",
          "text": [
            "15\n"
          ]
        }
      ]
    },
    {
      "cell_type": "code",
      "source": [
        "test_tree[rand_outer][rand_inner][2] in crtester\n",
        "\n",
        "print(test_tree[rand_outer][rand_inner][2])\n",
        "\n",
        "crtester.remove(test_tree[rand_outer][rand_inner][2])"
      ],
      "metadata": {
        "colab": {
          "base_uri": "https://localhost:8080/"
        },
        "id": "kPmVGrTmpX1u",
        "outputId": "90907fb4-8eed-463e-d33a-c004fd9c96df"
      },
      "execution_count": null,
      "outputs": [
        {
          "output_type": "stream",
          "name": "stdout",
          "text": [
            "<__main__.Card object at 0x7fbcf8de7210>\n"
          ]
        }
      ]
    },
    {
      "cell_type": "code",
      "source": [
        "print(len(cr))\n",
        "crtester = remove_used_cards(crtester, test_tree[rand_outer])\n",
        "print(len(crtester))"
      ],
      "metadata": {
        "colab": {
          "base_uri": "https://localhost:8080/"
        },
        "id": "nFkcqxmamyU8",
        "outputId": "067c445a-ec6e-4ae4-d23c-4f01fa21520f"
      },
      "execution_count": null,
      "outputs": [
        {
          "output_type": "stream",
          "name": "stdout",
          "text": [
            "15\n",
            "[<__main__.Card object at 0x7fbcf8d46090>, <__main__.Card object at 0x7fbcf8d69310>, <__main__.Card object at 0x7fbcf8d691d0>, <__main__.Card object at 0x7fbcf8d69650>, <__main__.Card object at 0x7fbcf8d69810>, <__main__.Card object at 0x7fbcf8d69550>, <__main__.Card object at 0x7fbcf8d69410>, <__main__.Card object at 0x7fbcf8d697d0>, <__main__.Card object at 0x7fbcf8d69790>, <__main__.Card object at 0x7fbcf8d69610>]\n",
            "10\n"
          ]
        }
      ]
    },
    {
      "cell_type": "code",
      "source": [
        "test_tree2 = find_possible_moves(crtester)\n",
        "print(len(test_tree2))"
      ],
      "metadata": {
        "id": "IjUo8xWTwVW-",
        "colab": {
          "base_uri": "https://localhost:8080/"
        },
        "outputId": "209c5de3-1d39-4aec-afa8-2789e16abb3f"
      },
      "execution_count": null,
      "outputs": [
        {
          "output_type": "stream",
          "name": "stdout",
          "text": [
            "30240\n"
          ]
        }
      ]
    },
    {
      "cell_type": "code",
      "source": [
        "crnt_moves, rand_outer, rand_inner = pick_moves(test_tree2)\n",
        "print(crnt_moves)\n",
        "crtester = remove_used_cards(crtester, test_tree2[rand_outer])\n",
        "print(len(crtester))"
      ],
      "metadata": {
        "colab": {
          "base_uri": "https://localhost:8080/"
        },
        "id": "VgOv4rZWw2bR",
        "outputId": "3dea4738-ac9d-43dd-ce8d-dd9a0f413e6c"
      },
      "execution_count": null,
      "outputs": [
        {
          "output_type": "stream",
          "name": "stdout",
          "text": [
            "[<__main__.Card object at 0x7fbcf8d69410>, <__main__.Card object at 0x7fbcf8d69610>, <__main__.Card object at 0x7fbcf8d691d0>]\n",
            "[<__main__.Card object at 0x7fbcf8d69310>, <__main__.Card object at 0x7fbcf8d69650>, <__main__.Card object at 0x7fbcf8d69810>, <__main__.Card object at 0x7fbcf8d69550>, <__main__.Card object at 0x7fbcf8d697d0>]\n",
            "5\n"
          ]
        }
      ]
    },
    {
      "cell_type": "code",
      "source": [
        "test_tree3 = find_possible_moves(crtester)\n",
        "print(len(test_tree3))"
      ],
      "metadata": {
        "id": "LP563nqmzl5Y",
        "colab": {
          "base_uri": "https://localhost:8080/"
        },
        "outputId": "d49a8ab6-ed3f-4bba-a7c5-c3b8510db8af"
      },
      "execution_count": null,
      "outputs": [
        {
          "output_type": "stream",
          "name": "stdout",
          "text": [
            "120\n"
          ]
        }
      ]
    },
    {
      "cell_type": "code",
      "source": [
        "crnt_moves, rand_outer, rand_inner = pick_moves(test_tree3)\n",
        "print(crnt_moves)\n",
        "crtester = remove_used_cards(crtester, test_tree3[rand_outer])\n",
        "print(len(crtester))"
      ],
      "metadata": {
        "colab": {
          "base_uri": "https://localhost:8080/"
        },
        "id": "5GBuhL7Nzq_G",
        "outputId": "d04fc7e4-5fb0-4cf7-dd93-914bc65a8eb6"
      },
      "execution_count": null,
      "outputs": [
        {
          "output_type": "stream",
          "name": "stdout",
          "text": [
            "[<__main__.Card object at 0x7fbcf8d69810>, <__main__.Card object at 0x7fbcf8d69550>, <__main__.Card object at 0x7fbcf8d69310>]\n",
            "[]\n",
            "0\n"
          ]
        }
      ]
    },
    {
      "cell_type": "code",
      "source": [
        "tes = []\n",
        "tes.append(serv1.cards)\n",
        "tes.append(serv2.cards)\n",
        "tes.append(serv3.cards)\n",
        "\n",
        "print(tes)\n",
        "\n",
        "cod = calculate_total_value(tes)\n",
        "cod_high = find_highest_value(cod)\n",
        "print(cod)\n",
        "print(cod_high)\n",
        "print(tes[cod_high[1]])\n",
        "\n",
        "\n",
        "\n",
        "tet = maximise_damage(tes)\n",
        "print(tet)"
      ],
      "metadata": {
        "colab": {
          "base_uri": "https://localhost:8080/"
        },
        "id": "2FQO25U-_PLM",
        "outputId": "f437e354-8d95-4699-80e1-5c6e905a79c2"
      },
      "execution_count": null,
      "outputs": [
        {
          "output_type": "stream",
          "name": "stdout",
          "text": [
            "[[<__main__.Card object at 0x7fbcf8de7210>, <__main__.Card object at 0x7fbcf8d46050>, <__main__.Card object at 0x7fbcf8d46110>, <__main__.Card object at 0x7fbcf8d46090>, <__main__.Card object at 0x7fbcf8d69310>], [<__main__.Card object at 0x7fbcf8d691d0>, <__main__.Card object at 0x7fbcf8d69450>, <__main__.Card object at 0x7fbcf8d69650>, <__main__.Card object at 0x7fbcf8d69810>, <__main__.Card object at 0x7fbcf8d69550>], [<__main__.Card object at 0x7fbcf8d69410>, <__main__.Card object at 0x7fbcf8d692d0>, <__main__.Card object at 0x7fbcf8d697d0>, <__main__.Card object at 0x7fbcf8d69790>, <__main__.Card object at 0x7fbcf8d69610>]]\n",
            "[<__main__.Card object at 0x7fbcf8de7210>, <__main__.Card object at 0x7fbcf8d46050>, <__main__.Card object at 0x7fbcf8d46110>, <__main__.Card object at 0x7fbcf8d46090>, <__main__.Card object at 0x7fbcf8d69310>]\n",
            "[<__main__.Card object at 0x7fbcf8d691d0>, <__main__.Card object at 0x7fbcf8d69450>, <__main__.Card object at 0x7fbcf8d69650>, <__main__.Card object at 0x7fbcf8d69810>, <__main__.Card object at 0x7fbcf8d69550>]\n",
            "[<__main__.Card object at 0x7fbcf8d69410>, <__main__.Card object at 0x7fbcf8d692d0>, <__main__.Card object at 0x7fbcf8d697d0>, <__main__.Card object at 0x7fbcf8d69790>, <__main__.Card object at 0x7fbcf8d69610>]\n",
            "[[58000.0, 0], [67200.0, 1], [116000.0, 2]]\n",
            "[116000.0, 2]\n",
            "[<__main__.Card object at 0x7fbcf8d69410>, <__main__.Card object at 0x7fbcf8d692d0>, <__main__.Card object at 0x7fbcf8d697d0>, <__main__.Card object at 0x7fbcf8d69790>, <__main__.Card object at 0x7fbcf8d69610>]\n",
            "[<__main__.Card object at 0x7fbcf8de7210>, <__main__.Card object at 0x7fbcf8d46050>, <__main__.Card object at 0x7fbcf8d46110>, <__main__.Card object at 0x7fbcf8d46090>, <__main__.Card object at 0x7fbcf8d69310>]\n",
            "[<__main__.Card object at 0x7fbcf8d691d0>, <__main__.Card object at 0x7fbcf8d69450>, <__main__.Card object at 0x7fbcf8d69650>, <__main__.Card object at 0x7fbcf8d69810>, <__main__.Card object at 0x7fbcf8d69550>]\n",
            "[<__main__.Card object at 0x7fbcf8d69410>, <__main__.Card object at 0x7fbcf8d692d0>, <__main__.Card object at 0x7fbcf8d697d0>, <__main__.Card object at 0x7fbcf8d69790>, <__main__.Card object at 0x7fbcf8d69610>]\n",
            "[<__main__.Card object at 0x7fbcf8d69410>, <__main__.Card object at 0x7fbcf8d692d0>, <__main__.Card object at 0x7fbcf8d697d0>, <__main__.Card object at 0x7fbcf8d69790>, <__main__.Card object at 0x7fbcf8d69610>]\n"
          ]
        }
      ]
    }
  ]
}